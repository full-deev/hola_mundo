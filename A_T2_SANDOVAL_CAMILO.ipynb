{
  "nbformat": 4,
  "nbformat_minor": 0,
  "metadata": {
    "colab": {
      "provenance": [],
      "authorship_tag": "ABX9TyPla1bktyirjPbLiWIGlPSW",
      "include_colab_link": true
    },
    "kernelspec": {
      "name": "python3",
      "display_name": "Python 3"
    },
    "language_info": {
      "name": "python"
    }
  },
  "cells": [
    {
      "cell_type": "markdown",
      "metadata": {
        "id": "view-in-github",
        "colab_type": "text"
      },
      "source": [
        "<a href=\"https://colab.research.google.com/github/full-deev/hola_mundo/blob/main/A_T2_SANDOVAL_CAMILO.ipynb\" target=\"_parent\"><img src=\"https://colab.research.google.com/assets/colab-badge.svg\" alt=\"Open In Colab\"/></a>"
      ]
    },
    {
      "cell_type": "markdown",
      "source": [
        "#**TRABAJO 2 TIC**\n",
        "##Tecnologias de la informacion y comunicacion\n",
        "###UNIDAD N°3 - HERRAMIENTAS COLABORATIVAS\n",
        "---"
      ],
      "metadata": {
        "id": "UDtUzUROp0hr"
      }
    },
    {
      "cell_type": "code",
      "source": [
        "print(\"hola mundo\")"
      ],
      "metadata": {
        "colab": {
          "base_uri": "https://localhost:8080/"
        },
        "id": "SMGwOwo4p3GJ",
        "outputId": "526a262f-bbf4-49c1-c3eb-7977ff95a29d"
      },
      "execution_count": null,
      "outputs": [
        {
          "output_type": "stream",
          "name": "stdout",
          "text": [
            "hola mundo\n"
          ]
        }
      ]
    },
    {
      "cell_type": "code",
      "source": [
        "n1 = int(input(\"Ingrese primer numero: \"))\n",
        "n2 = int(input(\"Ingrese segundo numero: \"))\n",
        "s = n1 + n2\n",
        "print(s)"
      ],
      "metadata": {
        "colab": {
          "base_uri": "https://localhost:8080/"
        },
        "id": "tBKidYCCqZPM",
        "outputId": "710428e1-e595-4543-b581-5c20ce8d8aad"
      },
      "execution_count": null,
      "outputs": [
        {
          "output_type": "stream",
          "name": "stdout",
          "text": [
            "Ingrese primer numero: 5\n",
            "Ingrese segundo numero: 5\n",
            "10\n"
          ]
        }
      ]
    },
    {
      "cell_type": "code",
      "source": [
        "num = int(input(\"Ingresa el numero a verificar: \"))\n",
        "if num % 2 == 0 :\n",
        "  print(f\"{num}, es par\")\n",
        "else:\n",
        "  print(f\"{num} es falso\")"
      ],
      "metadata": {
        "colab": {
          "base_uri": "https://localhost:8080/"
        },
        "id": "5f2ozVQZrSyr",
        "outputId": "a144e875-c964-4355-907c-f17143230194"
      },
      "execution_count": null,
      "outputs": [
        {
          "output_type": "stream",
          "name": "stdout",
          "text": [
            "Ingresa el numero a verificar: 58\n",
            "58, es par\n"
          ]
        }
      ]
    },
    {
      "cell_type": "code",
      "source": [
        "print(\"Segun el menu mostrado vamos a realizar algunas operaciones, let's goo! ☻\")\n",
        "print('''\\n\n",
        "1- Suma\n",
        "2- Resta\n",
        "3- Producto\n",
        "4- Division\n",
        "''')\n",
        "caso = int(input(\"Selecciona el numero de la operacion asignada: \"))\n",
        "numUno = int(input(\"Ingresa primer digito: \"))\n",
        "numDos = int(input(\"Ingresa segundo digito: \"))\n",
        "if caso == 1:\n",
        "  tt = numUno + numDos\n",
        "  print(\"el resultado de la operacion es: \", tt)\n",
        "elif caso == 2:\n",
        "  tt = numUno - numDos\n",
        "  print(\"el resultado de la operacion es: \", tt)\n",
        "elif caso == 3:\n",
        "  tt = numUno * numDos\n",
        "  print(\"el resultado de la operacion es: \", tt)\n",
        "elif caso == 4:\n",
        "  tt = numUno / numDos\n",
        "  print(\"el resultado de la operacion es: \", tt)"
      ],
      "metadata": {
        "colab": {
          "base_uri": "https://localhost:8080/"
        },
        "id": "akS6yAK6sI3D",
        "outputId": "c53c972b-1ca1-4e87-b7c2-7fc96f0421ff"
      },
      "execution_count": null,
      "outputs": [
        {
          "output_type": "stream",
          "name": "stdout",
          "text": [
            "Segun el menu mostrado vamos a realizar algunas operaciones, let's goo! \n",
            "\n",
            "\n",
            "\n",
            "1- Suma\n",
            "2- Resta\n",
            "3- Producto\n",
            "4- Division\n",
            "\n",
            "Selecciona el numero de la operacion asignada: 2\n",
            "Ingresa primer digito: 10\n",
            "Ingresa segundo digito: 5\n",
            "el resultado de la operacion es:  5\n"
          ]
        }
      ]
    },
    {
      "cell_type": "code",
      "source": [
        "#programa que compara tres numeros y muestra el mayor\n",
        "#Solicito al usuario que ingrese los numeros\n",
        "nUno = int(input(\"Ingresa primer numero: \"))\n",
        "nDos = int(input(\"Ingresa segundo numero: \"))\n",
        "nTres = int(input(\"Ingresa tercer numero: \"))\n",
        "#condiciones para saber que numero es mayor numero 1\n",
        "if numUno > nDos and nUno > nTres:\n",
        "    print(f\"el numero mayor es {nUno}\")\n",
        "if nDos > nTres and nDos > nUno:\n",
        "    print(f\"El numero mayor es {nDos}\")\n",
        "if nTres > nUno and nTres > nDos:\n",
        "    print(f\"El numero mayor es {nTres}\")\n",
        "\n",
        "\n"
      ],
      "metadata": {
        "colab": {
          "base_uri": "https://localhost:8080/"
        },
        "id": "YUb9kd99uJ9d",
        "outputId": "ce8438a3-bf07-4837-f510-61df2240f0d4"
      },
      "execution_count": null,
      "outputs": [
        {
          "name": "stdout",
          "output_type": "stream",
          "text": [
            "Ingresa primer numero: 50\n",
            "Ingresa segundo numero: 20\n",
            "Ingresa tercer numero: 30\n"
          ]
        }
      ]
    },
    {
      "cell_type": "code",
      "source": [
        "Grados FAHRENHEIT = (grados centígrados × 9/5) +32.\n",
        "gCel = int(input(\"Ingresa los grados celcius: \"))\n",
        "gFah = (gCel * (9/5))+32\n",
        "print(f\"Los datos Celsius {gCel} a Fahrenheit es {gFah}\")"
      ],
      "metadata": {
        "id": "uYDoPOImw3U0"
      },
      "execution_count": null,
      "outputs": []
    }
  ]
}