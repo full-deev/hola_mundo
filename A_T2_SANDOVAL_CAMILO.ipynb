{
  "nbformat": 4,
  "nbformat_minor": 0,
  "metadata": {
    "colab": {
      "provenance": [],
      "authorship_tag": "ABX9TyPjDDhmxnvWgpeLRXpZeKrb"
    },
    "kernelspec": {
      "name": "python3",
      "display_name": "Python 3"
    },
    "language_info": {
      "name": "python"
    }
  },
  "cells": [
    {
      "cell_type": "markdown",
      "source": [
        "#**TRABAJO 2 TIC**\n",
        "##TECNOLOGIAS DE LA INFORMACION Y COMUNICACION\n",
        "###**UNIDAD N°3** - HERRAMIENTAS COLABORATIVAS EN LINEA\n",
        "\n",
        "```\n",
        "print(\"...bienvenidos\")\n",
        "```\n",
        "\n",
        "---"
      ],
      "metadata": {
        "id": "UDtUzUROp0hr"
      }
    },
    {
      "cell_type": "code",
      "source": [
        "print(\"hola mundo\")"
      ],
      "metadata": {
        "colab": {
          "base_uri": "https://localhost:8080/"
        },
        "id": "SMGwOwo4p3GJ",
        "outputId": "526a262f-bbf4-49c1-c3eb-7977ff95a29d"
      },
      "execution_count": null,
      "outputs": [
        {
          "output_type": "stream",
          "name": "stdout",
          "text": [
            "hola mundo\n"
          ]
        }
      ]
    },
    {
      "cell_type": "code",
      "source": [
        "n1 = int(input(\"Ingrese primer numero: \"))\n",
        "n2 = int(input(\"Ingrese segundo numero: \"))\n",
        "s = n1 + n2\n",
        "print(s)"
      ],
      "metadata": {
        "colab": {
          "base_uri": "https://localhost:8080/"
        },
        "id": "tBKidYCCqZPM",
        "outputId": "710428e1-e595-4543-b581-5c20ce8d8aad"
      },
      "execution_count": null,
      "outputs": [
        {
          "output_type": "stream",
          "name": "stdout",
          "text": [
            "Ingrese primer numero: 5\n",
            "Ingrese segundo numero: 5\n",
            "10\n"
          ]
        }
      ]
    },
    {
      "cell_type": "code",
      "source": [
        "num = int(input(\"Ingresa el numero a verificar: \"))\n",
        "if num % 2 == 0 :\n",
        "  print(f\"{num}, es par\")\n",
        "else:\n",
        "  print(f\"{num} es falso\")"
      ],
      "metadata": {
        "colab": {
          "base_uri": "https://localhost:8080/"
        },
        "id": "5f2ozVQZrSyr",
        "outputId": "a144e875-c964-4355-907c-f17143230194"
      },
      "execution_count": null,
      "outputs": [
        {
          "output_type": "stream",
          "name": "stdout",
          "text": [
            "Ingresa el numero a verificar: 58\n",
            "58, es par\n"
          ]
        }
      ]
    },
    {
      "cell_type": "code",
      "source": [
        "print(\"Segun el menu mostrado vamos a realizar algunas operaciones, let's goo! ☻\")\n",
        "print('''\\n\n",
        "1- Suma\n",
        "2- Resta\n",
        "3- Producto\n",
        "4- Division\n",
        "''')\n",
        "caso = int(input(\"Selecciona el numero de la operacion asignada: \"))\n",
        "numUno = int(input(\"Ingresa primer digito: \"))\n",
        "numDos = int(input(\"Ingresa segundo digito: \"))\n",
        "if caso == 1:\n",
        "  tt = numUno + numDos\n",
        "  print(\"el resultado de la operacion es: \", tt)\n",
        "elif caso == 2:\n",
        "  tt = numUno - numDos\n",
        "  print(\"el resultado de la operacion es: \", tt)\n",
        "elif caso == 3:\n",
        "  tt = numUno * numDos\n",
        "  print(\"el resultado de la operacion es: \", tt)\n",
        "elif caso == 4:\n",
        "  tt = numUno / numDos\n",
        "  print(\"el resultado de la operacion es: \", tt)"
      ],
      "metadata": {
        "colab": {
          "base_uri": "https://localhost:8080/"
        },
        "id": "akS6yAK6sI3D",
        "outputId": "c53c972b-1ca1-4e87-b7c2-7fc96f0421ff"
      },
      "execution_count": null,
      "outputs": [
        {
          "output_type": "stream",
          "name": "stdout",
          "text": [
            "Segun el menu mostrado vamos a realizar algunas operaciones, let's goo! \n",
            "\n",
            "\n",
            "\n",
            "1- Suma\n",
            "2- Resta\n",
            "3- Producto\n",
            "4- Division\n",
            "\n",
            "Selecciona el numero de la operacion asignada: 2\n",
            "Ingresa primer digito: 10\n",
            "Ingresa segundo digito: 5\n",
            "el resultado de la operacion es:  5\n"
          ]
        }
      ]
    },
    {
      "cell_type": "code",
      "source": [
        "#programa que compara tres numeros y muestra el mayor\n",
        "#Solicito al usuario que ingrese los numeros\n",
        "nUno = int(input(\"Ingresa primer numero: \"))\n",
        "nDos = int(input(\"Ingresa segundo numero: \"))\n",
        "nTres = int(input(\"Ingresa tercer numero: \"))\n",
        "#condiciones para saber que numero es mayor numero 1\n",
        "if nUno > nDos:\n",
        "  if nUno > nTres:\n",
        "    print(nUno)\n",
        "  else:\n",
        "    print(nTres)\n",
        "else:\n",
        "  if nDos > nTres:\n",
        "    print(nDos)\n",
        "  else:\n",
        "    print(nTres)"
      ],
      "metadata": {
        "colab": {
          "base_uri": "https://localhost:8080/"
        },
        "id": "YUb9kd99uJ9d",
        "outputId": "10931896-e5e8-4952-ae3c-bb7743a95174"
      },
      "execution_count": 6,
      "outputs": [
        {
          "output_type": "stream",
          "name": "stdout",
          "text": [
            "Ingresa primer numero: 10\n",
            "Ingresa segundo numero: 8\n",
            "Ingresa tercer numero: 11\n",
            "11\n"
          ]
        }
      ]
    },
    {
      "cell_type": "code",
      "source": [
        "radio = float(input(\"Ingresa el valor del radio: \"))\n",
        "pii = 3.141592653589793\n",
        "aCirculo = pii * radio ** 2\n",
        "print(f\"El area del circulo con radio {radio}, es {aCirculo}\")"
      ],
      "metadata": {
        "colab": {
          "base_uri": "https://localhost:8080/"
        },
        "id": "RTlue9yE0vR5",
        "outputId": "7cb0a16b-5fc9-4198-bfe8-2f1e097fa19e"
      },
      "execution_count": 10,
      "outputs": [
        {
          "output_type": "stream",
          "name": "stdout",
          "text": [
            "Ingresa el valor del radio: 15\n",
            "El area del circulo con radio 15.0, es 706.8583470577034\n"
          ]
        }
      ]
    },
    {
      "cell_type": "code",
      "source": [
        "#Grados FAHRENHEIT = (grados centígrados × 9/5) +32.\n",
        "gCel = int(input(\"Ingresa los grados celcius: \"))\n",
        "gFah = (gCel * (9/5))+32\n",
        "print(f\"Los datos Celsius {gCel} a Fahrenheit es {gFah}\")"
      ],
      "metadata": {
        "id": "uYDoPOImw3U0"
      },
      "execution_count": null,
      "outputs": []
    },
    {
      "cell_type": "code",
      "source": [
        "for i in range(10, -1, -1):\n",
        "  print(i)"
      ],
      "metadata": {
        "colab": {
          "base_uri": "https://localhost:8080/"
        },
        "id": "0AT0KhkV25hu",
        "outputId": "0146d2bb-18ee-4efb-8fcb-77b5bf36dcce"
      },
      "execution_count": 14,
      "outputs": [
        {
          "output_type": "stream",
          "name": "stdout",
          "text": [
            "10\n",
            "9\n",
            "8\n",
            "7\n",
            "6\n",
            "5\n",
            "4\n",
            "3\n",
            "2\n",
            "1\n",
            "0\n"
          ]
        }
      ]
    },
    {
      "cell_type": "code",
      "source": [
        "tab = int(input(\"seleccione el numero de la tabla de multiplicar: \"))\n",
        "for i in range(1, 12+1):\n",
        "  t = tab * i\n",
        "  print(i, \"x\", tab, \"=\", t)"
      ],
      "metadata": {
        "colab": {
          "base_uri": "https://localhost:8080/"
        },
        "id": "Ha7zcsv63WlS",
        "outputId": "705ac66e-7044-4272-a1f9-c29d035e7da6"
      },
      "execution_count": 18,
      "outputs": [
        {
          "output_type": "stream",
          "name": "stdout",
          "text": [
            "seleccione el numero de la tabla de multiplicar: 5\n",
            "1 x 5 = 5\n",
            "2 x 5 = 10\n",
            "3 x 5 = 15\n",
            "4 x 5 = 20\n",
            "5 x 5 = 25\n",
            "6 x 5 = 30\n",
            "7 x 5 = 35\n",
            "8 x 5 = 40\n",
            "9 x 5 = 45\n",
            "10 x 5 = 50\n",
            "11 x 5 = 55\n",
            "12 x 5 = 60\n"
          ]
        }
      ]
    },
    {
      "cell_type": "code",
      "source": [
        "num = int(input(\"Ingresa un numero para conocer si es primo: \"))\n",
        "for i in range(1,num):\n",
        "  if (num % i) == 0:\n",
        "    print (i,\"primo\")\n",
        "  else:\n",
        "    print (i,\"no primo\")"
      ],
      "metadata": {
        "colab": {
          "base_uri": "https://localhost:8080/"
        },
        "id": "7i5LBaAt3YMI",
        "outputId": "ea490bec-32d1-40c3-ff5b-435099e73ef1"
      },
      "execution_count": 27,
      "outputs": [
        {
          "output_type": "stream",
          "name": "stdout",
          "text": [
            "Ingresa un numero para conocer si es primo: 15\n",
            "1 primo\n",
            "2 no primo\n",
            "3 primo\n",
            "4 no primo\n",
            "5 primo\n",
            "6 no primo\n",
            "7 no primo\n",
            "8 no primo\n",
            "9 no primo\n",
            "10 no primo\n",
            "11 no primo\n",
            "12 no primo\n",
            "13 no primo\n",
            "14 no primo\n"
          ]
        }
      ]
    },
    {
      "cell_type": "code",
      "source": [],
      "metadata": {
        "id": "2oQb7Agf3d7G"
      },
      "execution_count": null,
      "outputs": []
    }
  ]
}