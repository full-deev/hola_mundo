{
  "nbformat": 4,
  "nbformat_minor": 0,
  "metadata": {
    "colab": {
      "provenance": [],
      "authorship_tag": "ABX9TyMXajlt2wEdBi50f45UfbZW",
      "include_colab_link": true
    },
    "kernelspec": {
      "name": "python3",
      "display_name": "Python 3"
    },
    "language_info": {
      "name": "python"
    }
  },
  "cells": [
    {
      "cell_type": "markdown",
      "metadata": {
        "id": "view-in-github",
        "colab_type": "text"
      },
      "source": [
        "<a href=\"https://colab.research.google.com/github/full-deev/hola_mundo/blob/main/A_T2_SANDOVAL_CAMILO.ipynb\" target=\"_parent\"><img src=\"https://colab.research.google.com/assets/colab-badge.svg\" alt=\"Open In Colab\"/></a>"
      ]
    },
    {
      "cell_type": "markdown",
      "source": [
        "#**TRABAJO 2 TIC**\n",
        "##TECNOLOGIAS DE LA INFORMACION Y COMUNICACION\n",
        "###**UNIDAD N°3** - HERRAMIENTAS COLABORATIVAS EN LINEA\n",
        "\n",
        "```\n",
        "print(\"...bienvenidos\")\n",
        "```\n",
        "\n",
        "---"
      ],
      "metadata": {
        "id": "UDtUzUROp0hr"
      }
    },
    {
      "cell_type": "code",
      "source": [
        "print(\"hola mundo\")"
      ],
      "metadata": {
        "colab": {
          "base_uri": "https://localhost:8080/"
        },
        "id": "SMGwOwo4p3GJ",
        "outputId": "526a262f-bbf4-49c1-c3eb-7977ff95a29d"
      },
      "execution_count": null,
      "outputs": [
        {
          "output_type": "stream",
          "name": "stdout",
          "text": [
            "hola mundo\n"
          ]
        }
      ]
    },
    {
      "cell_type": "code",
      "source": [
        "n1 = int(input(\"Ingrese primer numero: \"))\n",
        "n2 = int(input(\"Ingrese segundo numero: \"))\n",
        "s = n1 + n2\n",
        "print(s)"
      ],
      "metadata": {
        "colab": {
          "base_uri": "https://localhost:8080/"
        },
        "id": "tBKidYCCqZPM",
        "outputId": "710428e1-e595-4543-b581-5c20ce8d8aad"
      },
      "execution_count": null,
      "outputs": [
        {
          "output_type": "stream",
          "name": "stdout",
          "text": [
            "Ingrese primer numero: 5\n",
            "Ingrese segundo numero: 5\n",
            "10\n"
          ]
        }
      ]
    },
    {
      "cell_type": "code",
      "source": [
        "num = int(input(\"Ingresa el numero a verificar: \"))\n",
        "if num % 2 == 0 :\n",
        "  print(f\"{num}, es par\")\n",
        "else:\n",
        "  print(f\"{num} es falso\")"
      ],
      "metadata": {
        "colab": {
          "base_uri": "https://localhost:8080/"
        },
        "id": "5f2ozVQZrSyr",
        "outputId": "a144e875-c964-4355-907c-f17143230194"
      },
      "execution_count": null,
      "outputs": [
        {
          "output_type": "stream",
          "name": "stdout",
          "text": [
            "Ingresa el numero a verificar: 58\n",
            "58, es par\n"
          ]
        }
      ]
    },
    {
      "cell_type": "code",
      "source": [
        "print(\"Según el menu mostrado vamos a realizar algunas operaciones, let's goo! ☻\")\n",
        "print('''\\n\n",
        "1- Suma\n",
        "2- Resta\n",
        "3- Producto\n",
        "4- Division\n",
        "''')\n",
        "caso = int(input(\"Selecciona el numero de la operacion asignada: \"))\n",
        "numUno = int(input(\"Ingresa primer digito: \"))\n",
        "numDos = int(input(\"Ingresa segundo digito: \"))\n",
        "if caso == 1:\n",
        "  tt = numUno + numDos\n",
        "  print(\"el resultado de la operacion es: \", tt)\n",
        "elif caso == 2:\n",
        "  tt = numUno - numDos\n",
        "  print(\"el resultado de la operacion es: \", tt)\n",
        "elif caso == 3:\n",
        "  tt = numUno * numDos\n",
        "  print(\"el resultado de la operacion es: \", tt)\n",
        "elif caso == 4:\n",
        "  tt = numUno / numDos\n",
        "  print(\"el resultado de la operacion es: \", tt)"
      ],
      "metadata": {
        "colab": {
          "base_uri": "https://localhost:8080/"
        },
        "id": "akS6yAK6sI3D",
        "outputId": "c53c972b-1ca1-4e87-b7c2-7fc96f0421ff"
      },
      "execution_count": null,
      "outputs": [
        {
          "output_type": "stream",
          "name": "stdout",
          "text": [
            "Segun el menu mostrado vamos a realizar algunas operaciones, let's goo! \n",
            "\n",
            "\n",
            "\n",
            "1- Suma\n",
            "2- Resta\n",
            "3- Producto\n",
            "4- Division\n",
            "\n",
            "Selecciona el numero de la operacion asignada: 2\n",
            "Ingresa primer digito: 10\n",
            "Ingresa segundo digito: 5\n",
            "el resultado de la operacion es:  5\n"
          ]
        }
      ]
    },
    {
      "cell_type": "code",
      "source": [
        "#programa que compara tres numeros y muestra el mayor\n",
        "#Solicito al usuario que ingrese los numeros\n",
        "nUno = int(input(\"Ingresa primer numero: \"))\n",
        "nDos = int(input(\"Ingresa segundo numero: \"))\n",
        "nTres = int(input(\"Ingresa tercer numero: \"))\n",
        "#condiciones para saber que numero es mayor numero 1\n",
        "if nUno > nDos:\n",
        "  if nUno > nTres:\n",
        "    print(nUno)\n",
        "  else:\n",
        "    print(nTres)\n",
        "else:\n",
        "  if nDos > nTres:\n",
        "    print(nDos)\n",
        "  else:\n",
        "    print(nTres)"
      ],
      "metadata": {
        "colab": {
          "base_uri": "https://localhost:8080/"
        },
        "id": "YUb9kd99uJ9d",
        "outputId": "10931896-e5e8-4952-ae3c-bb7743a95174"
      },
      "execution_count": null,
      "outputs": [
        {
          "output_type": "stream",
          "name": "stdout",
          "text": [
            "Ingresa primer numero: 10\n",
            "Ingresa segundo numero: 8\n",
            "Ingresa tercer numero: 11\n",
            "11\n"
          ]
        }
      ]
    },
    {
      "cell_type": "code",
      "source": [
        "radio = float(input(\"Ingresa el valor del radio: \"))\n",
        "pii = 3.141592653589793\n",
        "aCirculo = pii * radio ** 2\n",
        "print(f\"El area del circulo con radio {radio}, es {aCirculo}\")"
      ],
      "metadata": {
        "colab": {
          "base_uri": "https://localhost:8080/"
        },
        "id": "RTlue9yE0vR5",
        "outputId": "7cb0a16b-5fc9-4198-bfe8-2f1e097fa19e"
      },
      "execution_count": null,
      "outputs": [
        {
          "output_type": "stream",
          "name": "stdout",
          "text": [
            "Ingresa el valor del radio: 15\n",
            "El area del circulo con radio 15.0, es 706.8583470577034\n"
          ]
        }
      ]
    },
    {
      "cell_type": "code",
      "source": [
        "#Grados FAHRENHEIT = (grados centígrados × 9/5) +32.\n",
        "gCel = int(input(\"Ingresa los grados celcius: \"))\n",
        "gFah = (gCel * (9/5))+32\n",
        "print(f\"Los datos Celsius {gCel} a Fahrenheit es {gFah}\")"
      ],
      "metadata": {
        "id": "uYDoPOImw3U0"
      },
      "execution_count": null,
      "outputs": []
    },
    {
      "cell_type": "code",
      "source": [
        "for i in range(10, -1, -1):\n",
        "  print(i)"
      ],
      "metadata": {
        "colab": {
          "base_uri": "https://localhost:8080/"
        },
        "id": "0AT0KhkV25hu",
        "outputId": "0146d2bb-18ee-4efb-8fcb-77b5bf36dcce"
      },
      "execution_count": null,
      "outputs": [
        {
          "output_type": "stream",
          "name": "stdout",
          "text": [
            "10\n",
            "9\n",
            "8\n",
            "7\n",
            "6\n",
            "5\n",
            "4\n",
            "3\n",
            "2\n",
            "1\n",
            "0\n"
          ]
        }
      ]
    },
    {
      "cell_type": "code",
      "source": [
        "tab = int(input(\"seleccione el numero de la tabla de multiplicar: \"))\n",
        "for i in range(1, 12+1):\n",
        "  t = tab * i\n",
        "  print(i, \"x\", tab, \"=\", t)"
      ],
      "metadata": {
        "colab": {
          "base_uri": "https://localhost:8080/"
        },
        "id": "Ha7zcsv63WlS",
        "outputId": "705ac66e-7044-4272-a1f9-c29d035e7da6"
      },
      "execution_count": null,
      "outputs": [
        {
          "output_type": "stream",
          "name": "stdout",
          "text": [
            "seleccione el numero de la tabla de multiplicar: 5\n",
            "1 x 5 = 5\n",
            "2 x 5 = 10\n",
            "3 x 5 = 15\n",
            "4 x 5 = 20\n",
            "5 x 5 = 25\n",
            "6 x 5 = 30\n",
            "7 x 5 = 35\n",
            "8 x 5 = 40\n",
            "9 x 5 = 45\n",
            "10 x 5 = 50\n",
            "11 x 5 = 55\n",
            "12 x 5 = 60\n"
          ]
        }
      ]
    },
    {
      "cell_type": "code",
      "source": [
        "n = int(input(\"Ingresa un numero para conocer si es primo: \"))\n",
        "def es_primo(n):\n",
        "  for i in range(2,int(n/2)):\n",
        "    if (n%i) == 0:\n",
        "      return False\n",
        "  return True\n",
        "es_primo(n)"
      ],
      "metadata": {
        "colab": {
          "base_uri": "https://localhost:8080/"
        },
        "id": "7i5LBaAt3YMI",
        "outputId": "b00a73a8-ed11-4dce-a590-2e47405b6d36"
      },
      "execution_count": 14,
      "outputs": [
        {
          "name": "stdout",
          "output_type": "stream",
          "text": [
            "Ingresa un numero para conocer si es primo: 23\n"
          ]
        },
        {
          "output_type": "execute_result",
          "data": {
            "text/plain": [
              "True"
            ]
          },
          "metadata": {},
          "execution_count": 14
        }
      ]
    },
    {
      "cell_type": "code",
      "source": [
        "'''Sumar números hasta un límite:\n",
        "Escribe un programa que sume todos los números naturales\n",
        "hasta un número límite introducido por el usuario.'''\n",
        "nSuma = int(input(\"Ingresa el limite de numeros a contar desde el 1: \"))\n",
        "suma = 0\n",
        "for i in range(nSuma+1):\n",
        "  suma += i\n",
        "print(suma)"
      ],
      "metadata": {
        "id": "2oQb7Agf3d7G",
        "colab": {
          "base_uri": "https://localhost:8080/"
        },
        "outputId": "4d530870-a137-4aa6-c2dd-4ec64d2f1a86"
      },
      "execution_count": 16,
      "outputs": [
        {
          "output_type": "stream",
          "name": "stdout",
          "text": [
            "Ingresa el limite de numeros a contar desde el 0: 8\n",
            "36\n"
          ]
        }
      ]
    },
    {
      "cell_type": "code",
      "source": [
        "'''\n",
        "Invertir una cadena:\n",
        "Escribe un programa que invierta una cadena introducida por el usuario.\n",
        "'''\n",
        "cadena = input(\"Ingresa la cadena a invertir: \")\n",
        "print(cadena[::-1])"
      ],
      "metadata": {
        "id": "QyGNfeYM8JIj",
        "colab": {
          "base_uri": "https://localhost:8080/"
        },
        "outputId": "c0eb04de-1841-4dea-fcfb-f2c3d45fc877"
      },
      "execution_count": 18,
      "outputs": [
        {
          "output_type": "stream",
          "name": "stdout",
          "text": [
            "Ingresa la cadena a invertir: el grrr está muy loco y tiene hambre\n",
            "erbmah eneit y ocol yum átse rrrg le\n"
          ]
        }
      ]
    },
    {
      "cell_type": "code",
      "source": [
        "'''\n",
        "Contar vocales: Escribe un programa que cuente el número de vocales\n",
        "en una cadena introducida por el usuario.\n",
        "'''\n",
        "texto = input(\"Ingresa el texto a contar: \")\n",
        "texto = texto.lower()\n",
        "vocales = \"aeiou\"\n",
        "contador = 0\n",
        "for i in texto:\n",
        "  if i in vocales:\n",
        "    contador += 1\n",
        "print(f\"el numero de vocales son {contador}\")"
      ],
      "metadata": {
        "id": "B7HTT-0P8PsN",
        "colab": {
          "base_uri": "https://localhost:8080/"
        },
        "outputId": "100ddebd-579b-4ed5-c551-05d27dbb094a"
      },
      "execution_count": 20,
      "outputs": [
        {
          "output_type": "stream",
          "name": "stdout",
          "text": [
            "Ingresa el texto a contar: mi gato no duerme en las noches \n",
            "el numero de vocales son 11\n"
          ]
        }
      ]
    },
    {
      "cell_type": "code",
      "source": [
        "'''\n",
        "Palíndromo: Escribe un programa que determine\n",
        "si una cadena introducida por el usuario es un palíndromo.\n",
        "'''\n",
        "cad = input(\"Ingresa la cadena a verificar: \")\n",
        "if cad == cad[::-1]:\n",
        "  print(\"Es palindromo\")\n",
        "else:\n",
        "  print(\"No es palindromo\")\n",
        ""
      ],
      "metadata": {
        "id": "StOrCFXG8Won",
        "colab": {
          "base_uri": "https://localhost:8080/"
        },
        "outputId": "98b3e9ce-f4bc-407e-dee1-ad2116bb909b"
      },
      "execution_count": 24,
      "outputs": [
        {
          "output_type": "stream",
          "name": "stdout",
          "text": [
            "Ingresa la cadena a verificar: anitalavalatina\n",
            "Es palindromo\n"
          ]
        }
      ]
    },
    {
      "cell_type": "code",
      "source": [
        "'''\n",
        "Factorial de un número: Escribe un programa que calcule el factorial\n",
        "de un número introducido por el usuario.\n",
        "'''\n",
        "nume = int(input(\"Ingresa el numero para calcular su factorial: \"))\n",
        "fac = 1\n",
        "for i in range(1, nume+1):\n",
        "  fac *= i\n",
        "print(f\"El resultado factorial de {nume}! es {fac}\")"
      ],
      "metadata": {
        "id": "z74pLK6U8ct1",
        "colab": {
          "base_uri": "https://localhost:8080/"
        },
        "outputId": "763f6207-c529-4776-e39a-c1453ca64bc8"
      },
      "execution_count": 27,
      "outputs": [
        {
          "output_type": "stream",
          "name": "stdout",
          "text": [
            "Ingresa el numero para calcular su factorial: 5\n",
            "El resultado factorial de 5 es 120\n"
          ]
        }
      ]
    },
    {
      "cell_type": "code",
      "source": [
        "'''\n",
        "Generar números aleatorios: Escribe un programa que genere\n",
        "y muestre 5 números aleatorios entre 1 y 100.\n",
        "'''\n",
        "import random\n",
        "for i in range(5):\n",
        "  print(random.randint(1,100))"
      ],
      "metadata": {
        "id": "pHRLAK9v8ijb",
        "colab": {
          "base_uri": "https://localhost:8080/"
        },
        "outputId": "83434d41-5507-4fb7-b47f-a3e0251e5a60"
      },
      "execution_count": 28,
      "outputs": [
        {
          "output_type": "stream",
          "name": "stdout",
          "text": [
            "84\n",
            "14\n",
            "37\n",
            "22\n",
            "36\n"
          ]
        }
      ]
    },
    {
      "cell_type": "code",
      "source": [
        "'''\n",
        "Calculadora de índice de masa corporal (IMC): Escribe un programa que\n",
        "calcule el índice de masa corporal (IMC) a partir\n",
        "del peso y la altura introducidos por el usuario.\n",
        "'''\n",
        "print(\"Calculadora de IMC\")\n",
        "peso = float(input(\"Ingrese el peso en -KG- \"))\n",
        "alt = float(input(\"Ingresa la altura en -cm- \"))\n",
        "alt = alt / 100\n",
        "imc = peso / (alt ** 2)\n",
        "imc = round(imc, 2)\n",
        "if imc < 18.5:\n",
        "  print(f\"Su IMC es {imc} y está considerado con bajo peso\")\n",
        "elif imc >= 18.5 and imc <= 24.9:\n",
        "  print(f\"Su IMC es {imc} y se considerado con un peso adecuado\")\n",
        "elif imc >= 25.0 and imc <= 29.9:\n",
        "  print(f\"Su IMC es {imc} y está considerado con Sobrepeso\")\n",
        "elif imc >= 30.0 and imc <= 34.9:\n",
        "  print(f\"Su IMC es {imc} y está considerado con Obesidad I\")\n",
        "elif imc >= 35.0 and imc <= 39.9:\n",
        "  print(f\"Su IMC es {imc} y está considerado con Obesidad II\")\n",
        "elif imc >= 40:\n",
        "  print(f\"Su IMC es {imc} y está considerado con Obesidad Grave\")"
      ],
      "metadata": {
        "id": "6H_dgMFr8ofd",
        "outputId": "64b4fde8-2666-4eb1-d44d-d2a392ddd502",
        "colab": {
          "base_uri": "https://localhost:8080/"
        }
      },
      "execution_count": 35,
      "outputs": [
        {
          "output_type": "stream",
          "name": "stdout",
          "text": [
            "Calculadora de IMC\n",
            "Ingrese el peso en -KG- 63\n",
            "Ingresa la altura en -cm- 164\n",
            "Su IMC es 23.42 y se considerado con un peso adecuado\n"
          ]
        }
      ]
    }
  ]
}